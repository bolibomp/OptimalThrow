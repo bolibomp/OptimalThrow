{
  "nbformat": 4,
  "nbformat_minor": 0,
  "metadata": {
    "colab": {
      "name": "OptThrow.ipynb",
      "provenance": []
    },
    "kernelspec": {
      "name": "python3",
      "display_name": "Python 3"
    },
    "language_info": {
      "name": "python"
    }
  },
  "cells": [
    {
      "cell_type": "markdown",
      "source": [
        "#What is the optimal angle to maximize the distance of a ballistic trajectory"
      ],
      "metadata": {
        "id": "FHNxCOxhi51Y"
      }
    },
    {
      "cell_type": "markdown",
      "source": [
        "It's a well known fact that if you neglect air resistance when throwing a ball for example the best angle to maximize the distance is 45 degrees.\n",
        "But that angle is best if we include a complicated dependence in the air resistance?\n",
        "I use a complicated drag term and solve Newton's equation using a 4-order runge kutta. To find the the best angle is use an adaptive hillclimb to iterate angles from som starting angle.\n",
        "It's adaptive since it changes the step length of the hillclimb if it has to change the direction of it search so as to get a better resolution of the best angle."
      ],
      "metadata": {
        "id": "FppWWos7jCTV"
      }
    },
    {
      "cell_type": "code",
      "source": [
        "import numpy as np\n",
        "import matplotlib.pyplot as plt\n",
        "import math\n",
        "import random"
      ],
      "metadata": {
        "id": "iX7fFAIdisdT"
      },
      "execution_count": null,
      "outputs": []
    },
    {
      "cell_type": "code",
      "source": [
        "def cd(Re):  \n",
        "    if Re <= 0.0:\n",
        "        CD = 0.0\n",
        "    elif Re > 8.0e6:\n",
        "        CD = 0.2\n",
        "    elif Re > 0.0 and Re <= 0.5:\n",
        "        CD = 24.0/Re\n",
        "    elif Re > 0.5 and Re <= 100.0:\n",
        "        p = np.array([4.22, -14.05, 34.87, 0.658])\n",
        "        CD = np.polyval(p, 1.0/Re) \n",
        "    elif Re > 100.0 and Re <= 1.0e4:\n",
        "        p = np.array([-30.41, 43.72, -17.08, 2.41])\n",
        "        CD = np.polyval(p, 1.0/np.log10(Re))\n",
        "    elif Re > 1.0e4 and Re <= 3.35e5:\n",
        "        p = np.array([-0.1584, 2.031, -8.472, 11.932])\n",
        "        CD = np.polyval(p, np.log10(Re))\n",
        "    elif Re > 3.35e5 and Re <= 5.0e5:\n",
        "        x1 = np.log10(Re/4.5e5)\n",
        "        CD = 91.08*x1**4 + 0.0764\n",
        "    else:\n",
        "        p = np.array([-0.06338, 1.1905, -7.332, 14.93])\n",
        "        CD = np.polyval(p, np.log10(Re))\n",
        "    return CD\n",
        "\n",
        "def Re(kinvis,v,dia):\n",
        "  return np.linalg.norm(v)*dia/kinvis\n",
        "\n",
        "def Force(t, v, dens, kinvis, dia, g,mass):\n",
        "    const = 1/2*dens*cd(Re(kinvis,v,dia))*dia*math.pi\n",
        "    return (g - mass*const*np.linalg.norm(v)*v),(cd(Re(kinvis,v,dia))) #big mass makes it go backwards\n",
        "\n",
        "def RK4(tn, xn, vn, h, g, dens, kinvis, dia,mass):\n",
        "\n",
        "    k1v = Force(tn, vn, dens, kinvis, dia, g,mass)[0]\n",
        "    k2v = Force(tn, vn, dens, kinvis, dia, g,mass)[0]\n",
        "    k3v = Force(tn, vn, dens, kinvis, dia, g,mass)[0]\n",
        "    k4v = Force(tn, vn, dens, kinvis, dia, g,mass)[0]\n",
        "    vn1 = vn + (k1v + 2*k2v + 2*k3v + k4v)*(h/6)\n",
        "\n",
        "    k1x = vn\n",
        "    k2x = vn + k1v*h/2\n",
        "    k3x = vn + k2v*h/2\n",
        "    k4x = vn + k3v*h\n",
        "    xn1 = xn + (k1x + 2*k2x + 2*k3x + k4x)*(h/6)\n",
        "\n",
        "    return vn1, xn1\n",
        "\n",
        "def fitness_func(ang):\n",
        "    dens = 1.225 #kg/m^3\n",
        "    dia = 0.3 #m\n",
        "    mass = 1 #kg\n",
        "    kinvis = 0.00001544 #The kinematic viscosity of air at 15 °C is 1.48 × 10-5 m2 /s\n",
        "    g = np.array([0, -9.81])\n",
        "    h = 0.001\n",
        "    initvel = 100 #m/s\n",
        "    theta = math.radians(ang)\n",
        "    \n",
        "    v0 = initvel*np.array([math.cos(theta), math.sin(theta)])\n",
        "    x0 = np.array([0, 0])\n",
        "    t0 = 0\n",
        "    \n",
        "    x = []\n",
        "    v = []\n",
        "    t = []\n",
        "    \n",
        "    x.append(x0)\n",
        "    v.append(v0)\n",
        "    t.append(t0)\n",
        "    \n",
        "    tn = t0\n",
        "    vn = v0\n",
        "    xn = x0\n",
        "    \n",
        "    \n",
        "    while x[-1][1]>=0:\n",
        "      vn, xn = RK4(tn, xn, vn, h, g, dens, kinvis, dia,mass)\n",
        "      tn = tn + h\n",
        "      t.append(tn)\n",
        "      x.append(xn)\n",
        "      v.append(vn)\n",
        "    \n",
        "    x = np.array(x)\n",
        "    lastElementIndex = len(x)-1\n",
        "    x = x[:lastElementIndex]  \n",
        "    return x[-1][0],x"
      ],
      "metadata": {
        "id": "itTkxPDJiqwu"
      },
      "execution_count": null,
      "outputs": []
    },
    {
      "cell_type": "code",
      "source": [
        "def AdaptiveHill():\n",
        "    guess = 0\n",
        "    step = 1\n",
        "    direction = 1\n",
        "    iters = 500\n",
        "    for i in range(iters):\n",
        "        print(round(i/iters*100,2),'%')\n",
        "        base = fitness_func(guess)[0]\n",
        "        new = fitness_func(guess + direction*step)[0]\n",
        "        if np.abs(new-base) < 10**(-6):\n",
        "            break\n",
        "        if new>base:\n",
        "            print('Keep going')\n",
        "            print('New fittnes', new)\n",
        "            print('Base fittnes', base)\n",
        "            guess = guess + direction*step\n",
        "            print('guess:', guess)\n",
        "            print('step:', step)\n",
        "        if new<base:\n",
        "            print('Change direction')\n",
        "            print('New fittnes', new)\n",
        "            print('Base fittnes', base)\n",
        "            direction = -1*direction\n",
        "            step = step/2\n",
        "            print('guess:', guess)\n",
        "            print('step:', step)\n",
        "            \n",
        "        print('\\n')\n",
        "            \n",
        "    return guess"
      ],
      "metadata": {
        "id": "-95qayvoixQp"
      },
      "execution_count": null,
      "outputs": []
    },
    {
      "cell_type": "code",
      "source": [
        "opt_angl = AdaptiveHill()\n",
        "test_ang = [10,30,45,50,60]\n",
        "\n",
        "\n",
        "for i in test_ang:\n",
        "    a = fitness_func(i)\n",
        "    plt.plot(a[1][:,0],a[1][:,1], label = i)\n",
        "    \n",
        "a = fitness_func(opt_angl)\n",
        "plt.plot(a[1][:,0],a[1][:,1], label = 'opt', color = 'k')\n",
        "plt.title('Optimal angle is: ' + str(round(opt_angl,2)) +' degrees. Throwing distance is: ' + str(round(a[0],2))+' m.')\n",
        "plt.legend()\n",
        "plt.show()"
      ],
      "metadata": {
        "id": "5vKDOJawi4Dx"
      },
      "execution_count": null,
      "outputs": []
    }
  ]
}